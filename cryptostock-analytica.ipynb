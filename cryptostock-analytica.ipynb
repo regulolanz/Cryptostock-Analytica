{
 "cells": [
  {
   "cell_type": "markdown",
   "id": "2f1079b8-d060-4e06-81a7-bfff39e1f9d9",
   "metadata": {},
   "source": [
    "# Cryptostock Analytica"
   ]
  },
  {
   "cell_type": "code",
   "execution_count": 11,
   "id": "fb2921c9-9f90-4665-b53f-3c4faef49b7d",
   "metadata": {},
   "outputs": [],
   "source": [
    "# Initial imports\n",
    "import os\n",
    "import time\n",
    "import requests\n",
    "import pandas as pd\n",
    "from dotenv import load_dotenv\n",
    "import alpaca_trade_api as tradeapi\n",
    "from datetime import datetime, timedelta\n",
    "\n",
    "%matplotlib inline"
   ]
  },
  {
   "cell_type": "code",
   "execution_count": null,
   "id": "7add1848-3798-4d2e-824b-45eec8419c17",
   "metadata": {},
   "outputs": [],
   "source": [
    "# Load .env enviroment variables\n",
    "load_dotenv(dotenv_path=\"Alpaca.env\")"
   ]
  },
  {
   "cell_type": "code",
   "execution_count": null,
   "id": "13166d54-906c-42b7-87de-acc811a16abc",
   "metadata": {},
   "outputs": [],
   "source": [
    "# Set Alpaca API key and secret\n",
    "alpaca_api_key = os.getenv(\"ALPACA_API_KEY\")\n",
    "alpaca_secret_key = os.getenv(\"ALPACA_SECRET_KEY\")\n",
    "\n",
    "# Create the Alpaca API object\n",
    "api = tradeapi.REST(\n",
    "    alpaca_api_key,\n",
    "    alpaca_secret_key,\n",
    "    api_version=\"v2\"\n",
    ")"
   ]
  },
  {
   "cell_type": "code",
   "execution_count": null,
   "id": "0d76875c-8956-48c7-8902-60ea36334495",
   "metadata": {},
   "outputs": [],
   "source": [
    "# Format current date as ISO format\n",
    "today = pd.Timestamp(\"2023-04-12\", tz=\"America/New_York\").isoformat()\n",
    "\n",
    "# Set the tickers\n",
    "### CODE HERE\n",
    "\n",
    "# Set timeframe to \"1Day\" for Alpaca API\n",
    "timeframe = \"1D\"\n",
    "\n",
    "# Get current closing prices for SPY and AGG\n",
    "df_portfolio = api.get_bars(\n",
    "    tickers,\n",
    "    timeframe,\n",
    "    start=today,\n",
    "    end=today,\n",
    ").df"
   ]
  },
  {
   "cell_type": "code",
   "execution_count": 13,
   "id": "20d1b9d3-8dc0-4db8-8b43-93c33f31d3fa",
   "metadata": {},
   "outputs": [
    {
     "name": "stdout",
     "output_type": "stream",
     "text": [
      "Fetched data for bitcoin\n",
      "Fetched data for ethereum\n",
      "Fetched data for tether\n",
      "Fetched data for binancecoin\n",
      "Fetched data for usd-coin\n",
      "Fetched data for ripple\n",
      "Fetched data for cardano\n",
      "Fetched data for staked-ether\n",
      "Fetched data for dogecoin\n",
      "Fetched data for matic-network\n"
     ]
    }
   ],
   "source": [
    "def fetch_top_n_cryptos(n=10):\n",
    "    url = \"https://api.coingecko.com/api/v3/coins/markets\"\n",
    "    params = {\n",
    "        'vs_currency': 'usd',\n",
    "        'order': 'market_cap_desc',\n",
    "        'per_page': n,\n",
    "        'page': 1,\n",
    "        'sparkline': False,\n",
    "    }\n",
    "    response = requests.get(url, params=params)\n",
    "    data = response.json()\n",
    "    return data\n",
    "\n",
    "def fetch_crypto_data(coin_id, from_timestamp, to_timestamp):\n",
    "    url = f\"https://api.coingecko.com/api/v3/coins/{coin_id}/market_chart/range\"\n",
    "    params = {\n",
    "        'vs_currency': 'usd',\n",
    "        'from': from_timestamp,\n",
    "        'to': to_timestamp\n",
    "    }\n",
    "    response = requests.get(url, params=params)\n",
    "    data = response.json()\n",
    "    df = pd.DataFrame(data['prices'], columns=['time', 'price'])\n",
    "    df['time'] = pd.to_datetime(df['time'], unit='ms')\n",
    "    return df\n",
    "\n",
    "def get_data_by_name(name):\n",
    "    for crypto_id, data in crypto_data.items():\n",
    "        if crypto_id.lower() == name.lower():\n",
    "            return data\n",
    "    raise ValueError(f\"No data found for '{name}'\")\n",
    "\n",
    "# Fetch the top 10 cryptocurrencies by market cap\n",
    "top_cryptos = fetch_top_n_cryptos(10)\n",
    "\n",
    "# Unix timestamps for three years of data\n",
    "to_timestamp = pd.Timestamp.now(tz='UTC').timestamp()\n",
    "from_timestamp = pd.Timestamp.now(tz='UTC') - pd.DateOffset(years=3)\n",
    "from_timestamp = from_timestamp.timestamp()\n",
    "\n",
    "# Fetch historical data for each of the top 10 cryptos\n",
    "crypto_data = {}\n",
    "for crypto in top_cryptos:\n",
    "    coin_id = crypto['id']\n",
    "    try:\n",
    "        df = fetch_crypto_data(coin_id, from_timestamp, to_timestamp)\n",
    "        crypto_data[coin_id] = df\n",
    "        print(f\"Fetched data for {coin_id}\")\n",
    "        time.sleep(2)  # Add a delay between requests to avoid rate limiting\n",
    "    except Exception as e:\n",
    "        print(f\"Error fetching data for {coin_id}: {e}\")"
   ]
  },
  {
   "cell_type": "code",
   "execution_count": null,
   "id": "4c672c01-0f95-47b5-a35b-1fc04f57bc01",
   "metadata": {},
   "outputs": [],
   "source": [
    "def get_data_by_name(name):\n",
    "    for crypto in top_cryptos:\n",
    "        if crypto['name'].lower() == name.lower():\n",
    "            coin_id = crypto['id']\n",
    "            return crypto_data[coin_id]\n",
    "    return None\n",
    "\n",
    "# Ask user for the name of the cryptocurrency\n",
    "selected_crypto = input(\"Enter the name of the cryptocurrency you want to view data for: \")\n",
    "\n",
    "# Get the data for the selected cryptocurrency\n",
    "selected_crypto_data = get_data_by_name(selected_crypto)\n",
    "\n",
    "if selected_crypto_data is not None:\n",
    "    # Round the price data to 2 decimal places\n",
    "    selected_crypto_data['price'] = selected_crypto_data['price'].round(2)\n",
    "\n",
    "    # Print the data\n",
    "    print(selected_crypto_data)\n",
    "else:\n",
    "    print(\"Error: Invalid cryptocurrency name.\")"
   ]
  },
  {
   "cell_type": "code",
   "execution_count": null,
   "id": "a39fa232-22d2-44f8-aa18-68337b881fe3",
   "metadata": {},
   "outputs": [],
   "source": []
  }
 ],
 "metadata": {
  "kernelspec": {
   "display_name": "Python 3 (ipykernel)",
   "language": "python",
   "name": "python3"
  },
  "language_info": {
   "codemirror_mode": {
    "name": "ipython",
    "version": 3
   },
   "file_extension": ".py",
   "mimetype": "text/x-python",
   "name": "python",
   "nbconvert_exporter": "python",
   "pygments_lexer": "ipython3",
   "version": "3.7.13"
  }
 },
 "nbformat": 4,
 "nbformat_minor": 5
}
