{
 "cells": [
  {
   "cell_type": "markdown",
   "id": "2f1079b8-d060-4e06-81a7-bfff39e1f9d9",
   "metadata": {},
   "source": [
    "# Cryptostock Analytica"
   ]
  },
  {
   "cell_type": "code",
   "execution_count": null,
   "id": "fb2921c9-9f90-4665-b53f-3c4faef49b7d",
   "metadata": {},
   "outputs": [],
   "source": [
    "# Initial imports\n",
    "import os\n",
    "import time\n",
    "import requests\n",
    "import pandas as pd\n",
    "import yfinance as yf\n",
    "from datetime import datetime, timedelta\n",
    "import hvplot.pandas\n",
    "import holoviews as hv\n",
    "import numpy as np\n",
    "\n",
    "%matplotlib inline"
   ]
  },
  {
   "cell_type": "markdown",
   "id": "b85e1f4a-db4c-4c9d-af5a-1b2acae90623",
   "metadata": {},
   "source": [
    "### Function definitions"
   ]
  },
  {
   "cell_type": "code",
   "execution_count": null,
   "id": "903cfc17-894b-452c-9ebd-c31475655fee",
   "metadata": {},
   "outputs": [],
   "source": [
    "# Fetch stock data for a given stock symbol and date range\n",
    "def fetch_stock_data(stock_symbol, start_date, end_date):\n",
    "    stock_data = yf.download(stock_symbol, start=start_date, end=end_date)\n",
    "    stock_data.reset_index(inplace=True)\n",
    "    stock_data['Date'] = pd.to_datetime(stock_data['Date'], utc=True)\n",
    "    return stock_data\n",
    "\n",
    "# Fetch the top N cryptocurrencies by market cap\n",
    "def fetch_top_n_cryptos(n=10):\n",
    "    url = \"https://api.coingecko.com/api/v3/coins/markets\"\n",
    "    params = {\n",
    "        'vs_currency': 'usd',\n",
    "        'order': 'market_cap_desc',\n",
    "        'per_page': n,\n",
    "        'page': 1,\n",
    "        'sparkline': False,\n",
    "    }\n",
    "    response = requests.get(url, params=params)\n",
    "    data = response.json()\n",
    "    return data\n",
    "\n",
    "# Fetch historical price data for a specific cryptocurrency using its coin_id\n",
    "def fetch_crypto_data(coin_id, from_timestamp, to_timestamp):\n",
    "    url = f\"https://api.coingecko.com/api/v3/coins/{coin_id}/market_chart/range\"\n",
    "    params = {\n",
    "        'vs_currency': 'usd',\n",
    "        'from': from_timestamp,\n",
    "        'to': to_timestamp\n",
    "    }\n",
    "    response = requests.get(url, params=params)\n",
    "    data = response.json()\n",
    "    df = pd.DataFrame(data['prices'], columns=['time', 'price'])\n",
    "    df['time'] = pd.to_datetime(df['time'], unit='ms')\n",
    "    return df\n",
    "\n",
    "# Get the historical data of a specific cryptocurrency by its name\n",
    "def get_data_by_name(name):\n",
    "    for crypto in top_cryptos:\n",
    "        if crypto['name'].lower() == name.lower():\n",
    "            coin_id = crypto['id']\n",
    "            return crypto_data[coin_id]\n",
    "    return None\n",
    "\n",
    "# Calculate the Pearson correlation between two datasets\n",
    "def pearson_correlation(crypto, stocks):\n",
    "    return pd.Series(crypto).corr(pd.Series(stocks))\n",
    "\n",
    "# Interpret the correlation value\n",
    "def interpret_correlation(correlation):\n",
    "    if correlation >= 0.7:\n",
    "        interpretation = \"strong positive correlation\"\n",
    "    elif correlation >= 0.3:\n",
    "        interpretation = \"moderate positive correlation\"\n",
    "    elif correlation >= -0.3:\n",
    "        interpretation = \"weak correlation\"\n",
    "    elif correlation >= -0.7:\n",
    "        interpretation = \"moderate negative correlation\"\n",
    "    else:\n",
    "        interpretation = \"strong negative correlation\"\n",
    "    return interpretation"
   ]
  },
  {
   "cell_type": "markdown",
   "id": "f3dbc440-b6be-4409-b5d0-c7e280d48da2",
   "metadata": {},
   "source": [
    "### Data Acquisition"
   ]
  },
  {
   "cell_type": "code",
   "execution_count": null,
   "id": "fcaae32c-43bc-48ff-bbd5-e1a78384e0f6",
   "metadata": {},
   "outputs": [],
   "source": [
    "# Stock data acquisition\n",
    "# Ask user for the stock symbol\n",
    "selected_stock = input(\"Enter the stock symbol you want to view data for: \").upper()\n",
    "\n",
    "end_date = pd.Timestamp.now(tz='UTC')\n",
    "start_date = end_date - pd.DateOffset(years=3)\n",
    "\n",
    "# Fetch the stock data\n",
    "selected_stock_data = fetch_stock_data(selected_stock, start_date, end_date)\n",
    "\n",
    "# Print the stock data\n",
    "if not selected_stock_data.empty:\n",
    "    # Round the price data to 2 decimal places\n",
    "    selected_stock_data[['Open', 'High', 'Low', 'Close']] = selected_stock_data[['Open', 'High', 'Low', 'Close']].round(2)\n",
    "\n",
    "    # Print the data\n",
    "    print(selected_stock_data)\n",
    "else:\n",
    "    print(\"Error: Invalid stock symbol or no data available.\")\n",
    "\n",
    "selected_stock_data.set_index('Date')"
   ]
  },
  {
   "cell_type": "code",
   "execution_count": null,
   "id": "20d1b9d3-8dc0-4db8-8b43-93c33f31d3fa",
   "metadata": {},
   "outputs": [],
   "source": [
    "# Cryptocurrency data acquisition\n",
    "# Unix timestamps for three years of data\n",
    "to_timestamp = pd.Timestamp.now(tz='UTC').timestamp()\n",
    "from_timestamp = pd.Timestamp.now(tz='UTC') - pd.DateOffset(years=3)\n",
    "from_timestamp = from_timestamp.timestamp()\n",
    "\n",
    "# Fetch the top 10 cryptocurrencies by market cap\n",
    "top_cryptos = fetch_top_n_cryptos(10)\n",
    "\n",
    "# Fetch historical data for each of the top 10 cryptos\n",
    "crypto_data = {}\n",
    "for crypto in top_cryptos:\n",
    "    coin_id = crypto['id']\n",
    "    try:\n",
    "        df = fetch_crypto_data(coin_id, from_timestamp, to_timestamp)\n",
    "        crypto_data[coin_id] = df\n",
    "        print(f\"Fetched data for {coin_id}\")\n",
    "        time.sleep(2)  # Add a delay between requests to avoid rate limiting\n",
    "    except Exception as e:\n",
    "        print(f\"Error fetching data for {coin_id}: {e}\")\n",
    "        \n",
    "# Ask user for the name of the cryptocurrency\n",
    "selected_crypto = input(\"Enter the name of the cryptocurrency you want to view data for: \")\n",
    "\n",
    "# Get the data for the selected cryptocurrency\n",
    "selected_crypto_data = get_data_by_name(selected_crypto)\n",
    "    \n",
    "# Print the cryptocurrency data\n",
    "if selected_crypto_data is not None:\n",
    "    # Round the price data to 2 decimal places\n",
    "    selected_crypto_data['price'] = selected_crypto_data['price'].round(2)\n",
    "\n",
    "    # Print the data\n",
    "    print(selected_crypto_data)\n",
    "else:\n",
    "    print(\"Error: Invalid cryptocurrency name.\")\n",
    "\n",
    "selected_crypto_data.set_index('time')"
   ]
  },
  {
   "cell_type": "markdown",
   "id": "d64098f3",
   "metadata": {},
   "source": [
    " ## Part 1 - Correlation Analysis"
   ]
  },
  {
   "cell_type": "code",
   "execution_count": null,
   "id": "e9de71e7-8e01-4e77-a4ba-acfe3fcdb325",
   "metadata": {},
   "outputs": [],
   "source": [
    "# Calculate the correlation between crypto and stock prices\n",
    "correlation = pearson_correlation(selected_crypto_data['price'], selected_stock_data['Close'])\n",
    "print(correlation)\n",
    "\n",
    "# Create a DataFrame containing crypto and stock prices\n",
    "combined_data = pd.DataFrame({\n",
    "    'Crypto Prices': selected_crypto_data['price'],\n",
    "    'Stock Prices': selected_stock_data['Close']\n",
    "})\n",
    "\n",
    "# Create a scatter plot using Hvplot\n",
    "scatter_plot = combined_data.hvplot.scatter(\n",
    "    x='Crypto Prices',\n",
    "    y='Stock Prices',\n",
    "    title='Scatter Plot of Crypto Prices vs. Stock Prices'\n",
    ")\n",
    "\n",
    "# Position the correlation label on the scatter plot\n",
    "x_position = 0.85 * combined_data['Crypto Prices'].max()\n",
    "y_position = 0.15 * combined_data['Stock Prices'].max()\n",
    "correlation_label = hv.Text(x_position, y_position, f'Correlation: {correlation:.2f}', fontsize=14)\n",
    "\n",
    "# Get the textual interpretation of the correlation\n",
    "correlation_interpretation = interpret_correlation(correlation)\n",
    "print(f\"The assets have a {correlation_interpretation}.\")\n",
    "\n",
    "# Position the interpretation label on the scatter plot\n",
    "interpretation_label = hv.Text(x_position, y_position - y_position * 0.1, f'Interpretation: {correlation_interpretation}', fontsize=12)\n",
    "\n",
    "# Combine the scatter plot, correlation label, and interpretation label\n",
    "plot_with_label_and_interpretation = scatter_plot * correlation_label * interpretation_label\n",
    "\n",
    "# Display the plot\n",
    "plot_with_label_and_interpretation.opts(legend_position='top_left', height=400, width=900)"
   ]
  },
  {
   "cell_type": "markdown",
   "id": "19394379-38cf-4685-bc9b-c12e139d6bb7",
   "metadata": {},
   "source": [
    "## Part 2 - Technical Analysis"
   ]
  },
  {
   "cell_type": "markdown",
   "id": "208e146d-9422-48c6-a873-505ed76109b7",
   "metadata": {},
   "source": [
    "### Moving Averages"
   ]
  },
  {
   "cell_type": "code",
   "execution_count": null,
   "id": "ee9b7c03-72d8-4d60-9f59-8757648a0511",
   "metadata": {},
   "outputs": [],
   "source": [
    "## YOUR CODE HERE"
   ]
  },
  {
   "cell_type": "markdown",
   "id": "8c692f70-3467-4792-9135-5e1521e0af22",
   "metadata": {},
   "source": [
    "### Relative Strength Index (RSI)"
   ]
  },
  {
   "cell_type": "code",
   "execution_count": null,
   "id": "2a2e0dcf-14b9-4fa8-abb9-aa00445d2db5",
   "metadata": {},
   "outputs": [],
   "source": [
    "## YOUR CODE HERE"
   ]
  },
  {
   "cell_type": "markdown",
   "id": "82bfbe0d-48ec-4a86-ac6b-f45de98f8eb8",
   "metadata": {},
   "source": [
    "### Bollinger Bands"
   ]
  },
  {
   "cell_type": "code",
   "execution_count": null,
   "id": "98b6b38c-e9ac-4cdc-98e9-c0e028067b21",
   "metadata": {},
   "outputs": [],
   "source": [
    "## YOUR CODE HERE"
   ]
  },
  {
   "cell_type": "markdown",
   "id": "55433b8c",
   "metadata": {},
   "source": [
    "### Standard Deviation"
   ]
  },
  {
   "cell_type": "code",
   "execution_count": null,
   "id": "4e48b27e",
   "metadata": {},
   "outputs": [],
   "source": [
    "# Create a DataFrame of daily returns for the selected cryptocurrency and stock\n",
    "stock_and_crypto_returns_df = pd.DataFrame({\n",
    "    'Crypto Prices': selected_crypto_data['price'].pct_change().dropna(),\n",
    "    'Stock Prices': selected_stock_data['Close'].pct_change().dropna()\n",
    "})\n",
    "\n",
    "# Calculate the annualized standard deviation for the cryptocurrency and stock\n",
    "crypto_std_annualized = np.sqrt(252) * stock_and_crypto_returns_df['Crypto Prices'].std()\n",
    "stocks_std_annualized = np.sqrt(252) * stock_and_crypto_returns_df['Stock Prices'].std()\n",
    "\n",
    "# Create a DataFrame of the annualized standard deviation for the cryptocurrency and stock\n",
    "assets_annualized_std = pd.DataFrame({\n",
    "    \"Asset type\" : ['Crypto' , 'Stock'],\n",
    "    \"Annualized Standard Deviation\": [crypto_std_annualized , stocks_std_annualized]\n",
    "})\n",
    "\n",
    "# Create a bar plot of the annualized standard deviation for the cryptocurrency and stock using Hvplot\n",
    "assets_annualized_std.hvplot.bar(\n",
    "    title= \"Annualized Standard Deviation\",\n",
    "    x=\"Asset type\",\n",
    "    y=\"Annualized Standard Deviation\"\n",
    ")"
   ]
  },
  {
   "cell_type": "markdown",
   "id": "1f2b7943-5fa6-4ef3-8ade-fc90cb9d7229",
   "metadata": {},
   "source": [
    "## Part 3 - Risk Analysis"
   ]
  },
  {
   "cell_type": "markdown",
   "id": "22dfea66-acfd-4266-a65e-96939455a3df",
   "metadata": {},
   "source": [
    "### Volatility"
   ]
  },
  {
   "cell_type": "code",
   "execution_count": null,
   "id": "36702ce0-cecd-468d-87b7-767bac489523",
   "metadata": {},
   "outputs": [],
   "source": [
    "## YOUR CODE HERE"
   ]
  },
  {
   "cell_type": "markdown",
   "id": "4d0ad274-05ce-48dc-bd72-bc9c80cedf65",
   "metadata": {},
   "source": [
    "### Value at Risk (VaR)"
   ]
  },
  {
   "cell_type": "code",
   "execution_count": null,
   "id": "8ee75787-c7d3-4347-ac0c-637485e063e8",
   "metadata": {},
   "outputs": [],
   "source": [
    "## YOUR CODE HERE"
   ]
  }
 ],
 "metadata": {
  "kernelspec": {
   "display_name": "Python 3 (ipykernel)",
   "language": "python",
   "name": "python3"
  },
  "language_info": {
   "codemirror_mode": {
    "name": "ipython",
    "version": 3
   },
   "file_extension": ".py",
   "mimetype": "text/x-python",
   "name": "python",
   "nbconvert_exporter": "python",
   "pygments_lexer": "ipython3",
   "version": "3.7.13"
  }
 },
 "nbformat": 4,
 "nbformat_minor": 5
}
