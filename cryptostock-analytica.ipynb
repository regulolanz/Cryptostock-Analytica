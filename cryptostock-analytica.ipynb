{
 "cells": [
  {
   "attachments": {},
   "cell_type": "markdown",
   "id": "2f1079b8-d060-4e06-81a7-bfff39e1f9d9",
   "metadata": {},
   "source": [
    "# Cryptostock Analytica"
   ]
  },
  {
   "cell_type": "code",
   "execution_count": null,
   "id": "fb2921c9-9f90-4665-b53f-3c4faef49b7d",
   "metadata": {},
   "outputs": [],
   "source": [
    "# Initial imports\n",
    "import os\n",
    "import timeS\n",
    "import requests\n",
    "import pandas as pd\n",
    "import yfinance as yf\n",
    "from datetime import datetime, timedelta\n",
    "import hvplot.pandas\n",
    "import holoviews as hv\n",
    "import numpy as np\n",
    "\n",
    "%matplotlib inline"
   ]
  },
  {
   "attachments": {},
   "cell_type": "markdown",
   "id": "1a49e958",
   "metadata": {},
   "source": [
    "### Function definitions"
   ]
  },
  {
   "cell_type": "code",
   "execution_count": null,
   "id": "960a207c-f9cb-4faa-b6f5-5e5420bf63b6",
   "metadata": {},
   "outputs": [],
   "source": [
    "# Fetch stock data for a given stock symbol and date range\n",
    "def fetch_stock_data(stock_symbol, start_date, end_date):\n",
    "    stock_data = yf.download(stock_symbol, start=start_date, end=end_date)\n",
    "    stock_data.reset_index(inplace=True)\n",
    "    stock_data['Date'] = pd.to_datetime(stock_data['Date'], utc=True)\n",
    "    return stock_data\n",
    "\n",
    "# Fetch the top N cryptocurrencies by market cap\n",
    "def fetch_top_n_cryptos(n=10):\n",
    "    url = \"https://api.coingecko.com/api/v3/coins/markets\"\n",
    "    params = {\n",
    "        'vs_currency': 'usd',\n",
    "        'order': 'market_cap_desc',\n",
    "        'per_page': n,\n",
    "        'page': 1,\n",
    "        'sparkline': False,\n",
    "    }\n",
    "    response = requests.get(url, params=params)\n",
    "    data = response.json()\n",
    "    return data\n",
    "\n",
    "# Fetch historical price data for a specific cryptocurrency using its coin_id\n",
    "def fetch_crypto_data(coin_id, from_timestamp, to_timestamp):\n",
    "    url = f\"https://api.coingecko.com/api/v3/coins/{coin_id}/market_chart/range\"\n",
    "    params = {\n",
    "        'vs_currency': 'usd',\n",
    "        'from': from_timestamp,\n",
    "        'to': to_timestamp\n",
    "    }\n",
    "    response = requests.get(url, params=params)\n",
    "    data = response.json()\n",
    "    df = pd.DataFrame(data['prices'], columns=['time', 'price'])\n",
    "    df['time'] = pd.to_datetime(df['time'], unit='ms')\n",
    "    return df\n",
    "\n",
    "# Get the historical data of a specific cryptocurrency by its name\n",
    "def get_data_by_name(name):\n",
    "    for crypto in top_cryptos:\n",
    "        if crypto['name'].lower() == name.lower():\n",
    "            coin_id = crypto['id']\n",
    "            return crypto_data[coin_id]\n",
    "    return None\n",
    "\n",
    "# Calculate the Pearson correlation between two datasets\n",
    "def pearson_correlation(crypto, stocks):\n",
    "    return pd.Series(crypto).corr(pd.Series(stocks))\n",
    "\n",
    "# Interpret the correlation value\n",
    "def interpret_correlation(correlation):\n",
    "    if correlation >= 0.7:\n",
    "        interpretation = \"strong positive correlation\"\n",
    "    elif correlation >= 0.3:\n",
    "        interpretation = \"moderate positive correlation\"\n",
    "    elif correlation >= -0.3:\n",
    "        interpretation = \"weak correlation\"\n",
    "    elif correlation >= -0.7:\n",
    "        interpretation = \"moderate negative correlation\"\n",
    "    else:\n",
    "        interpretation = \"strong negative correlation\"\n",
    "    return interpretation\n",
    "\n",
    "# Define a function to calculate Simple Moving Averages (SMA)\n",
    "def calculate_sma(data, window):\n",
    "    return data.rolling(window=window).mean()\n",
    "\n",
    "# Define a function to calculate the Relative Strength Index (RSI)\n",
    "def calculate_rsi(data, window):\n",
    "    delta = data.diff().dropna()\n",
    "    gains = delta.where(delta > 0, 0)\n",
    "    losses = -delta.where(delta < 0, 0)\n",
    "    avg_gain = gains.rolling(window=window).mean()\n",
    "    avg_loss = losses.rolling(window=window).mean()\n",
    "    rs = avg_gain / avg_loss\n",
    "    rsi = 100 - (100 / (1 + rs))\n",
    "    return rsi\n",
    "\n",
    "# Define a function to calculate Bollinger Bands\n",
    "def calculate_bollinger_bands(data, window, num_std):\n",
    "    sma = data.rolling(window=window).mean()\n",
    "    std = data.rolling(window=window).std()\n",
    "    upper_band = sma + (num_std * std)\n",
    "    lower_band = sma - (num_std * std)\n",
    "    return sma, upper_band, lower_band\n",
    "\n",
    "# Define a function to calculate Value at Risk (VaR) for a given confidence level\n",
    "def calculate_var(returns, confidence_level=0.95):\n",
    "    return returns.quantile(1 - confidence_level)"
   ]
  },
  {
   "attachments": {},
   "cell_type": "markdown",
   "id": "5c9f72df",
   "metadata": {},
   "source": [
    "### Data Acquisition"
   ]
  },
  {
   "cell_type": "code",
   "execution_count": null,
   "id": "20d1b9d3-8dc0-4db8-8b43-93c33f31d3fa",
   "metadata": {},
   "outputs": [],
   "source": [
    "# Stock data acquisition\n",
    "# Ask user for the stock symbol\n",
    "selected_stock = input(\"Enter the stock symbol you want to view data for: \").upper()\n",
    "\n",
    "end_date = pd.Timestamp.now(tz='UTC')\n",
    "start_date = end_date - pd.DateOffset(years=3)\n",
    "\n",
    "# Fetch the stock data\n",
    "selected_stock_data = fetch_stock_data(selected_stock, start_date, end_date)\n",
    "\n",
    "# Print the stock data\n",
    "if not selected_stock_data.empty:\n",
    "    # Round the price data to 2 decimal places\n",
    "    selected_stock_data[['Open', 'High', 'Low', 'Close']] = selected_stock_data[['Open', 'High', 'Low', 'Close']].round(2)\n",
    "\n",
    "    # Print the data\n",
    "    print(selected_stock_data)\n",
    "else:\n",
    "    print(\"Error: Invalid stock symbol or no data available.\")\n",
    "\n",
    "selected_stock_data.set_index('Date')\n",
    "\n"
   ]
  },
  {
   "cell_type": "code",
   "execution_count": null,
   "id": "4c672c01-0f95-47b5-a35b-1fc04f57bc01",
   "metadata": {},
   "outputs": [],
   "source": [
    "# Cryptocurrency data acquisition\n",
    "# Unix timestamps for three years of data\n",
    "to_timestamp = pd.Timestamp.now(tz='UTC').timestamp()\n",
    "from_timestamp = pd.Timestamp.now(tz='UTC') - pd.DateOffset(years=3)\n",
    "from_timestamp = from_timestamp.timestamp()\n",
    "\n",
    "# Fetch the top 10 cryptocurrencies by market cap\n",
    "top_cryptos = fetch_top_n_cryptos(10)\n",
    "\n",
    "# Fetch historical data for each of the top 10 cryptos\n",
    "crypto_data = {}\n",
    "for crypto in top_cryptos:\n",
    "    coin_id = crypto['id']\n",
    "    try:\n",
    "        df = fetch_crypto_data(coin_id, from_timestamp, to_timestamp)\n",
    "        crypto_data[coin_id] = df\n",
    "        print(f\"Fetched data for {coin_id}\")\n",
    "        time.sleep(2)  # Add a delay between requests to avoid rate limiting\n",
    "    except Exception as e:\n",
    "        print(f\"Error fetching data for {coin_id}: {e}\")\n",
    "        \n",
    "# Ask user for the name of the cryptocurrency\n",
    "selected_crypto = input(\"Enter the name of the cryptocurrency you want to view data for: \")\n",
    "\n",
    "# Get the data for the selected cryptocurrency\n",
    "selected_crypto_data = get_data_by_name(selected_crypto)\n",
    "    \n",
    "# Print the cryptocurrency data\n",
    "if selected_crypto_data is not None:\n",
    "    # Round the price data to 2 decimal places\n",
    "    selected_crypto_data['price'] = selected_crypto_data['price'].round(2)\n",
    "\n",
    "    # Print the data\n",
    "    print(selected_crypto_data)\n",
    "else:\n",
    "    print(\"Error: Invalid cryptocurrency name.\")\n"
   ]
  },
  {
   "attachments": {},
   "cell_type": "markdown",
   "id": "b384c741",
   "metadata": {},
   "source": [
    "### Reusable Data Frames #ESTO ES NUEVO"
   ]
  },
  {
   "cell_type": "code",
   "execution_count": null,
   "id": "3c876cf1",
   "metadata": {},
   "outputs": [],
   "source": [
    "##### Bloque completo es nuevo ######\n",
    "\n",
    "### Closing Prices for choosen assets merged on same dates ###\n",
    "\n",
    "# Mergin the date frame on the date \n",
    "selected_stock_data['Date'] = selected_stock_data['Date'].dt.tz_convert(None)\n",
    "Combined_prices_db = pd.merge(selected_crypto_data, selected_stock_data, left_on='time', right_on='Date', how='inner')\n",
    "\n",
    "# cleaning data by dropping values that we are not needed \n",
    "\n",
    "Combined_prices_db = Combined_prices_db.drop(columns= ['Open', 'time','Open', 'High', 'Low', 'Adj Close', 'Volume'])\n",
    "\n",
    "\n",
    "# Final data frame with the closing prices and date as Index and reanaming columns with their corresponfing asset\n",
    "\n",
    "Combined_prices_db.set_index('Date', inplace= True)\n",
    "Combined_prices_db.rename(columns={'price': selected_crypto, 'Close': selected_stock}, inplace=True)\n",
    "\n",
    "Combined_prices_db\n"
   ]
  },
  {
   "attachments": {},
   "cell_type": "markdown",
   "id": "1557c40d",
   "metadata": {},
   "source": [
    "Creating a DF combing closing prices where the dates match"
   ]
  },
  {
   "cell_type": "code",
   "execution_count": null,
   "id": "0199eb45",
   "metadata": {},
   "outputs": [],
   "source": [
    "##### Bloque completo es nuevo ######\n",
    "\n",
    "\n",
    "### Daily percent Change for both assets Data Frame\n",
    "\n",
    "Stock_cryoto_pct = Combined_prices_db.pct_change().dropna()\n",
    "Stock_cryoto_pct"
   ]
  },
  {
   "attachments": {},
   "cell_type": "markdown",
   "id": "28782ba6",
   "metadata": {},
   "source": [
    " ## Part 1 - Correlation Analysis # Tiene cambios"
   ]
  },
  {
   "cell_type": "code",
   "execution_count": null,
   "id": "b02faf76",
   "metadata": {},
   "outputs": [],
   "source": [
    "# Calculate the correlation between crypto and stock prices\n",
    "correlation = pearson_correlation(selected_crypto_data['price'], selected_stock_data['Close'])\n",
    "print(correlation)\n",
    "\n",
    "# Create a scatter plot using Hvplot \n",
    "\n",
    "### Modifique el bloque completo para que use el data frame que cree arriba con el nombre de los activos selccionados ###\n",
    "\n",
    "scatter_plot =  Combined_prices_db.hvplot.scatter(\n",
    "    x=selected_crypto,\n",
    "    y=selected_stock,\n",
    "    title='Scatter Plot of Crypto Prices vs. Stock Prices'\n",
    ")\n",
    "\n",
    "# Position the correlation label on the scatter plot\n",
    "x_position = 0.85 * Combined_prices_db[selected_crypto].max()\n",
    "y_position = 0.6 * Combined_prices_db[selected_stock].max()\n",
    "correlation_label = hv.Text(x_position , y_position , f'Correlation: {correlation:.2f}', fontsize=14)\n",
    "\n",
    "# Get the textual interpretation of the correlation\n",
    "correlation_interpretation = interpret_correlation(correlation)\n",
    "print(f\"The assets have a {correlation_interpretation}.\")\n",
    "\n",
    "# Position the interpretation label on the scatter plot\n",
    "interpretation_label = hv.Text(x_position, y_position - y_position * 0.1, f'Interpretation: {correlation_interpretation}', fontsize=12)\n",
    "\n",
    "# Combine the scatter plot, correlation label, and interpretation label\n",
    "plot_with_label_and_interpretation = scatter_plot * correlation_label * interpretation_label\n",
    "\n",
    "# Display the plot\n",
    "plot_with_label_and_interpretation.opts(legend_position='top_left', height=400, width=900)"
   ]
  },
  {
   "attachments": {},
   "cell_type": "markdown",
   "id": "644620eb",
   "metadata": {},
   "source": [
    "## Part 2 - Technical Analysis ## no toque esto"
   ]
  },
  {
   "attachments": {},
   "cell_type": "markdown",
   "id": "7ac48e43",
   "metadata": {},
   "source": [
    "### Simple Moving Averages (SMA) ## no toque esto"
   ]
  },
  {
   "cell_type": "code",
   "execution_count": null,
   "id": "555c388e",
   "metadata": {},
   "outputs": [],
   "source": [
    "# Calculate 30-day and 100-day SMA for the selected cryptocurrency\n",
    "selected_crypto_data['SMA30'] = calculate_sma(selected_crypto_data['price'], 30)\n",
    "selected_crypto_data['SMA100'] = calculate_sma(selected_crypto_data['price'], 100)\n",
    "\n",
    "# Calculate 30-day and 100-day SMA for the selected stock\n",
    "selected_stock_data['SMA30'] = calculate_sma(selected_stock_data['Close'], 30)\n",
    "selected_stock_data['SMA100'] = calculate_sma(selected_stock_data['Close'], 100)\n",
    "\n",
    "# Create Simple Moving Averages (SMA) plot for the selected cryptocurrency\n",
    "sma_crypto_plot = selected_crypto_data[['price', 'SMA30', 'SMA100']].hvplot(title=f'Simple Moving Averages for {selected_crypto}', ylabel='Price')\n",
    "\n",
    "# Create Simple Moving Averages (SMA) plot for the selected stock\n",
    "sma_stock_plot = selected_stock_data[['Close', 'SMA30', 'SMA100']].hvplot(title=f'Simple Moving Averages for {selected_stock}', ylabel='Price')\n",
    "\n",
    "# Display the plots\n",
    "(sma_crypto_plot + sma_stock_plot)"
   ]
  },
  {
   "cell_type": "code",
   "execution_count": null,
   "id": "034dd524",
   "metadata": {},
   "outputs": [],
   "source": [
    "### Relative Strength Index (RSI) ## No toque esto"
   ]
  },
  {
   "cell_type": "code",
   "execution_count": null,
   "id": "80b24cd5",
   "metadata": {},
   "outputs": [],
   "source": [
    "# Calculate the 14-day RSI for the selected cryptocurrency\n",
    "selected_crypto_data['RSI'] = calculate_rsi(selected_crypto_data['price'], 14)\n",
    "\n",
    "# Calculate the 14-day RSI for the selected stock\n",
    "selected_stock_data['RSI'] = calculate_rsi(selected_stock_data['Close'], 14)\n",
    "\n",
    "# Create Relative Strength Index (RSI) plot for the selected cryptocurrency\n",
    "rsi_crypto_plot = selected_crypto_data['RSI'].hvplot(title=f'Relative Strength Index for {selected_crypto}', ylabel='RSI', ylim=(0, 100))\n",
    "\n",
    "# Create Relative Strength Index (RSI) plot for the selected stock\n",
    "rsi_stock_plot = selected_stock_data['RSI'].hvplot(title=f'Relative Strength Index for {selected_stock}', ylabel='RSI', ylim=(0, 100))\n",
    "\n",
    "# Display the plots\n",
    "(rsi_crypto_plot + rsi_stock_plot)"
   ]
  },
  {
   "cell_type": "code",
   "execution_count": null,
   "id": "904c2229",
   "metadata": {},
   "outputs": [],
   "source": [
    "### Bollinger Bands ## no toque esto"
   ]
  },
  {
   "cell_type": "code",
   "execution_count": null,
   "id": "8936f635",
   "metadata": {},
   "outputs": [],
   "source": [
    "# Calculate the Bollinger Bands for the selected cryptocurrency with a 20-day window and 2 standard deviations\n",
    "selected_crypto_data['SMA20'], selected_crypto_data['UpperBB'], selected_crypto_data['LowerBB'] = calculate_bollinger_bands(selected_crypto_data['price'], 20, 2)\n",
    "\n",
    "# Calculate the Bollinger Bands for the selected stock with a 20-day window and 2 standard deviations\n",
    "selected_stock_data['SMA20'], selected_stock_data['UpperBB'], selected_stock_data['LowerBB'] = calculate_bollinger_bands(selected_stock_data['Close'], 20, 2)\n",
    "\n",
    "# Create Bollinger Bands plot for the selected cryptocurrency\n",
    "bb_crypto_plot = selected_crypto_data[['price', 'SMA20', 'UpperBB', 'LowerBB']].hvplot(title=f'Bollinger Bands for {selected_crypto}', ylabel='Price')\n",
    "\n",
    "# Create Bollinger Bands plot for the selected stock\n",
    "bb_stock_plot = selected_stock_data[['Close', 'SMA20', 'UpperBB', 'LowerBB']].hvplot(title=f'Bollinger Bands for {selected_stock}', ylabel='Price')\n",
    "\n",
    "# Display the plots\n",
    "\n",
    "(bb_crypto_plot + bb_stock_plot)"
   ]
  },
  {
   "attachments": {},
   "cell_type": "markdown",
   "id": "073c3a27",
   "metadata": {},
   "source": [
    "## Part 3 - Risk Analysis"
   ]
  },
  {
   "attachments": {},
   "cell_type": "markdown",
   "id": "6cf485b3",
   "metadata": {},
   "source": [
    "### Standard Deviation ### modifique esto"
   ]
  },
  {
   "attachments": {},
   "cell_type": "markdown",
   "id": "08935e4d",
   "metadata": {},
   "source": []
  },
  {
   "cell_type": "code",
   "execution_count": null,
   "metadata": {},
   "outputs": [],
   "source": [
    "### Cambie el bloque completo \n",
    "\n",
    "# Calculate the annualized standard deviation for the cryptocurrency and stock\n",
    "crypto_std_annualized = np.sqrt(252) * Stock_cryoto_pct[selected_crypto].std()\n",
    "stocks_std_annualized = np.sqrt(252) * Stock_cryoto_pct[selected_stock].std()\n",
    "\n",
    "# Create a DataFrame of the annualized standard deviation for the cryptocurrency and stock\n",
    "assets_annualized_std = pd.DataFrame({\n",
    "    \"Asset type\" : [ selected_crypto , selected_stock],\n",
    "    \"Annualized Standard Deviation\": [crypto_std_annualized , stocks_std_annualized]\n",
    "})\n",
    "\n",
    "# Create a bar plot of the annualized standard deviation for the cryptocurrency and stock using Hvplot\n",
    "assets_annualized_std.hvplot.bar(\n",
    "    title= \"Annualized Standard Deviation\",\n",
    "    x=\"Asset type\",\n",
    "    y=\"Annualized Standard Deviation\"\n",
    ")"
   ]
  },
  {
   "attachments": {},
   "cell_type": "markdown",
   "metadata": {},
   "source": [
    "Creating a data frame with the percent change for the assets"
   ]
  },
  {
   "cell_type": "code",
   "execution_count": null,
   "id": "627b386d",
   "metadata": {},
   "outputs": [],
   "source": [
    "##### modifique el bloque completo\n",
    "\n",
    "Rolling_21_day_std = Stock_cryoto_pct.rolling(window= 21).std() * np.sqrt(21)\n",
    "\n",
    "std_plot = Rolling_21_day_std.hvplot(\n",
    "    title=\"Rolling 21-Day Standard Deviation\",\n",
    "    width=900,\n",
    "    height=400,\n",
    "    stacked=False,\n",
    "    color=['blue', 'orange'],\n",
    "   \n",
    "    ylabel=\"Standard Deviation\",\n",
    "\n",
    "    ylim=(0, Rolling_21_day_std.max().max() * 1.1),\n",
    ")\n",
    "\n",
    "std_plot"
   ]
  },
  {
   "attachments": {},
   "cell_type": "markdown",
   "id": "d64098f3",
   "metadata": {},
   "source": [
    "### Value at Risk (VaR) ### Modique esto "
   ]
  },
  {
   "cell_type": "code",
   "execution_count": null,
   "id": "61e04402",
   "metadata": {},
   "outputs": [],
   "source": [
    "#### los cambios que hice arriba afectaron esta parte, por esto tuve que modifiacarlo por igual\n",
    "\n",
    "######borrar esta parte de aqui ###########################################################################\n",
    "#### esto fue lo que modique , ahora el resultado nos dara el nombre del crypto y stock que escogimos ######\n",
    "# # Calculate the 95% Value at Risk for the selected cryptocurrency\n",
    "# crypto_var_95 = calculate_var(stock_and_crypto_returns_df['Crypto Prices'])\n",
    "############################################################################################################\n",
    "\n",
    "### Esta parte es la que usaramos\n",
    "\n",
    "\n",
    "# Calculate the 95% Value at Risk for the selected cryptocurrency\n",
    "crypto_var_95 = calculate_var(Stock_cryoto_pct[selected_crypto])\n",
    "\n",
    "# Calculate the 95% Value at Risk for the selected stock\n",
    "stocks_var_95 = calculate_var(Stock_cryoto_pct[selected_stock])\n",
    "\n",
    "# Print the calculated 95% Value at Risk for both the cryptocurrency and stock\n",
    "print(f\"The 95% Value at Risk for the selected cryptocurrency is {crypto_var_95:.4f}\")\n",
    "print(f\"The 95% Value at Risk for the selected stock is {stocks_var_95:.4f}\")\n",
    "\n",
    "# Create a DataFrame with the 95% Value at Risk for both the cryptocurrency and stock\n",
    "var_df = pd.DataFrame({\n",
    "    \"Asset type\" : [selected_crypto , selected_stock],\n",
    "    \"95% Value at Risk\": [crypto_var_95, stocks_var_95]\n",
    "})\n",
    "\n",
    "# Create a bar plot of the 95% Value at Risk for both the cryptocurrency and stock using Hvplot\n",
    "var_plot = var_df.hvplot.bar(\n",
    "    title= \"95% Value at Risk\",\n",
    "    x=\"Asset type\",\n",
    "    y=\"95% Value at Risk\",\n",
    "    ylim=(0, max(crypto_var_95, stocks_var_95) * 1.5)\n",
    ")\n",
    "\n",
    "# Display the plot\n",
    "var_plot\n"
   ]
  },
  {
   "cell_type": "code",
   "execution_count": null,
   "id": "c1a16b26",
   "metadata": {},
   "outputs": [],
   "source": [
    "#### lo mismo que arriba, cambie por completo este bloque para que funcione\n",
    "\n",
    "# Create a DataFrame with the 95% Value at Risk for both the cryptocurrency and stock\n",
    "var_df = pd.DataFrame ({\n",
    "     \"Asset type\" : [selected_crypto , selected_stock],\n",
    "    \"95% Value at Risk\": [crypto_var_95, stocks_var_95]\n",
    "    })\n",
    "\n",
    "# Create a bar plot of the 95% Value at Risk for both the cryptocurrency and stock using Hvplot\n",
    "var_plot = var_df.hvplot.bar(\n",
    "    title= \"95% Value at Risk\",\n",
    "    x=\"Asset type\",\n",
    "    y=\"95% Value at Risk\",\n",
    "    ylim=(0, max(crypto_var_95, stocks_var_95) * 1.5)\n",
    ")\n",
    "\n",
    "# Display the plot\n",
    "var_plot\n"
   ]
  },
  {
   "cell_type": "code",
   "execution_count": null,
   "id": "f12ca3d9",
   "metadata": {},
   "outputs": [],
   "source": []
  },
  {
   "attachments": {},
   "cell_type": "markdown",
   "id": "b648ca0c",
   "metadata": {},
   "source": []
  }
 ],
 "metadata": {
  "kernelspec": {
   "display_name": "dev",
   "language": "python",
   "name": "dev"
  },
  "language_info": {
   "codemirror_mode": {
    "name": "ipython",
    "version": 3
   },
   "file_extension": ".py",
   "mimetype": "text/x-python",
   "name": "python",
   "nbconvert_exporter": "python",
   "pygments_lexer": "ipython3",
   "version": "3.9.13"
  }
 },
 "nbformat": 4,
 "nbformat_minor": 5
}
